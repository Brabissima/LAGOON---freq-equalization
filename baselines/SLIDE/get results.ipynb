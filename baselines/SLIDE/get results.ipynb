{
 "cells": [
  {
   "cell_type": "code",
   "execution_count": 1,
   "id": "82df2e12",
   "metadata": {},
   "outputs": [],
   "source": [
    "import os\n",
    "import glob\n",
    "import numpy as np"
   ]
  },
  {
   "cell_type": "code",
   "execution_count": 2,
   "id": "5d4b598e",
   "metadata": {},
   "outputs": [],
   "source": [
    "dataset_names = ['adult', 'german', 'compas']\n",
    "n_samples = range(15)"
   ]
  },
  {
   "cell_type": "code",
   "execution_count": 3,
   "id": "5543d315",
   "metadata": {},
   "outputs": [],
   "source": [
    "def get_results(dataset):\n",
    "    dict_results = {}\n",
    "    fairness_rates, utility_rates, consistency_rates = [], [], []\n",
    "    txt_files = glob.glob('results/{}_sample*.txt'.format(dataset))\n",
    "    for _file in txt_files:\n",
    "        with open (_file) as file:\n",
    "            txt = file.readlines()\n",
    "            utility_rates.append(txt[6].split(': ')[1])\n",
    "            fairness_rates.append(txt[8].split(': ')[1])\n",
    "            consistency_rates.append(txt[9].split(': ')[1])\n",
    "    # OF: Original Fairness, LF: Lambda Fairness, OA: Original Accuracy, LA: Lambda Accuracy\n",
    "    dict_results['utility'] = np.mean(list(map(float, utility_rates)))\n",
    "    dict_results['fairness'] = np.mean(list(map(float, fairness_rates)))\n",
    "    dict_results['consistency'] = np.mean(list(map(float, consistency_rates)))\n",
    "    return dict_results"
   ]
  },
  {
   "cell_type": "code",
   "execution_count": 5,
   "id": "2f09e017",
   "metadata": {},
   "outputs": [
    {
     "data": {
      "text/plain": [
       "{'utility': 0.4968666666666667,\n",
       " 'fairness': 0.8705266666666667,\n",
       " 'consistency': 0.9943703703703705}"
      ]
     },
     "execution_count": 5,
     "metadata": {},
     "output_type": "execute_result"
    }
   ],
   "source": [
    "get_results('german')"
   ]
  },
  {
   "cell_type": "code",
   "execution_count": 4,
   "id": "2917ab27",
   "metadata": {},
   "outputs": [
    {
     "data": {
      "text/plain": [
       "{'utility': 0.5697866666666667,\n",
       " 'fairness': 0.86094,\n",
       " 'consistency': 0.9250112721417069}"
      ]
     },
     "execution_count": 4,
     "metadata": {},
     "output_type": "execute_result"
    }
   ],
   "source": [
    "get_results('adult')"
   ]
  },
  {
   "cell_type": "code",
   "execution_count": 6,
   "id": "301232ea",
   "metadata": {},
   "outputs": [
    {
     "data": {
      "text/plain": [
       "{'utility': 0.7861866666666668,\n",
       " 'fairness': 0.66732,\n",
       " 'consistency': 0.9438325281803542}"
      ]
     },
     "execution_count": 6,
     "metadata": {},
     "output_type": "execute_result"
    }
   ],
   "source": [
    "get_results('compas')"
   ]
  }
 ],
 "metadata": {
  "kernelspec": {
   "display_name": "Python 3",
   "language": "python",
   "name": "python3"
  },
  "language_info": {
   "codemirror_mode": {
    "name": "ipython",
    "version": 3
   },
   "file_extension": ".py",
   "mimetype": "text/x-python",
   "name": "python",
   "nbconvert_exporter": "python",
   "pygments_lexer": "ipython3",
   "version": "3.8.8"
  },
  "vscode": {
   "interpreter": {
    "hash": "df87352077eeb97541f8a1a7fd0524fe6b4eb21b17c3d717a2c7f3412b6c8302"
   }
  }
 },
 "nbformat": 4,
 "nbformat_minor": 5
}
